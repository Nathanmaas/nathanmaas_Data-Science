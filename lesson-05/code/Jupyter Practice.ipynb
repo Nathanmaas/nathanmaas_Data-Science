{
 "cells": [
  {
   "cell_type": "code",
   "execution_count": 19,
   "metadata": {
    "collapsed": true
   },
   "outputs": [],
   "source": [
    "import numpy as np\n",
    "import pandas as pd\n",
    "from matplotlib import pyplot as plt\n",
    "import seaborn as sns"
   ]
  },
  {
   "cell_type": "markdown",
   "metadata": {},
   "source": [
    "### Exercise 1\n",
    "\n",
    "Write a function that takes one variable `n` and sums the squares of the positive numbers less than or equal to `n`. There are a couple of ways to do this: list comprehensions, a loop, and probably others."
   ]
  },
  {
   "cell_type": "code",
   "execution_count": 43,
   "metadata": {},
   "outputs": [
    {
     "ename": "IndentationError",
     "evalue": "unexpected indent (<ipython-input-43-8113e7dc03c3>, line 13)",
     "output_type": "error",
     "traceback": [
      "\u001b[0;36m  File \u001b[0;32m\"<ipython-input-43-8113e7dc03c3>\"\u001b[0;36m, line \u001b[0;32m13\u001b[0m\n\u001b[0;31m    s = 0\u001b[0m\n\u001b[0m    ^\u001b[0m\n\u001b[0;31mIndentationError\u001b[0m\u001b[0;31m:\u001b[0m unexpected indent\n"
     ]
    }
   ],
   "source": [
    "#[x**2 for x in range(0,10)]\n",
    "#[x for x in range(1,20) if x%2==0 ]\n",
    "#def sum_squares(n):\n",
    "    #return sum([i**2 for i in range(1,n+1)])\n",
    "#sum_squares(9)\n",
    "\n",
    "#def sum_squares(n):\n",
    "    #s = 0 \n",
    "    #return reduce(lambda x,y:x+y**2,range(1,n+1))\n",
    "#sum_squares(5)\n",
    "\n",
    "#def sum_squares(n):\n",
    "    #s = 0\n",
    "    #for i in range(0,n+1):\n",
    "        #s += i**2\n",
    "    #return s\n",
    "    \n",
    "\n",
    "\n"
   ]
  },
  {
   "cell_type": "markdown",
   "metadata": {},
   "source": [
    "### Exercise 2\n",
    "\n",
    "Use your function to find the sum of the first 5 squares.\n"
   ]
  },
  {
   "cell_type": "code",
   "execution_count": 33,
   "metadata": {},
   "outputs": [
    {
     "data": {
      "text/plain": [
       "30"
      ]
     },
     "execution_count": 33,
     "metadata": {},
     "output_type": "execute_result"
    }
   ],
   "source": [
    "sum_squares(5)"
   ]
  },
  {
   "cell_type": "markdown",
   "metadata": {},
   "source": [
    "### Exercise 3\n",
    "\n",
    "It turns out that there is a nice formula for the sum of squares:\n",
    "    \n",
    "$$\\frac{n (n+1) (2n+1)}{6}$$\n",
    "\n",
    "Write a new function `sum_squares2` that uses this formula. If you used this method above for `sum_squares`, write the function using a loop instead."
   ]
  },
  {
   "cell_type": "code",
   "execution_count": 44,
   "metadata": {
    "collapsed": true
   },
   "outputs": [],
   "source": [
    "def sum_squares2(n):\n",
    "\n",
    "    return n*(n+1)*(2*n+1)/6"
   ]
  },
  {
   "cell_type": "markdown",
   "metadata": {},
   "source": [
    "### Exercise 4\n",
    "\n",
    "Compute the sum of the first 20 squares. Write a function that checks the comparison between the two approaches till N. Do your functions agree?"
   ]
  },
  {
   "cell_type": "code",
   "execution_count": 46,
   "metadata": {},
   "outputs": [
    {
     "ename": "SyntaxError",
     "evalue": "invalid syntax (<ipython-input-46-41f438ab8bbb>, line 2)",
     "output_type": "error",
     "traceback": [
      "\u001b[0;36m  File \u001b[0;32m\"<ipython-input-46-41f438ab8bbb>\"\u001b[0;36m, line \u001b[0;32m2\u001b[0m\n\u001b[0;31m    for i in range(1,20)\u001b[0m\n\u001b[0m                        ^\u001b[0m\n\u001b[0;31mSyntaxError\u001b[0m\u001b[0;31m:\u001b[0m invalid syntax\n"
     ]
    }
   ],
   "source": [
    "initial = True\n",
    "for i in range(1,20)\n",
    "    initial = initial & (sum_squares(i)==sum_squares2(i))\n",
    "print initial"
   ]
  },
  {
   "cell_type": "markdown",
   "metadata": {},
   "source": [
    "### Exercise 5\n"
   ]
  },
  {
   "cell_type": "markdown",
   "metadata": {},
   "source": [
    "What are techniques to check for causality?"
   ]
  },
  {
   "cell_type": "code",
   "execution_count": null,
   "metadata": {
    "collapsed": true
   },
   "outputs": [],
   "source": [
    "Hypothesis testing (AB testing)\n",
    "Correlation\n",
    "Temporality \n"
   ]
  },
  {
   "cell_type": "markdown",
   "metadata": {},
   "source": [
    "### Exercise 6 (work with a partner on this)"
   ]
  },
  {
   "cell_type": "markdown",
   "metadata": {},
   "source": [
    "If you have two populations P1 and P2 that differ purely by race and then you get the heights from each of person from both these populations. What are the steps you would perform in order to determine whether race affects height?"
   ]
  },
  {
   "cell_type": "code",
   "execution_count": null,
   "metadata": {
    "collapsed": true
   },
   "outputs": [],
   "source": [
    "#Race 1 \n",
    "#Race 2 \n",
    "\n",
    "#Two sample test\n",
    "#How do we determine whether race and height are related (null hypothesis - the mean of r1 = r2 - they come from the same distribution)\n",
    "#My hypothesis is\n",
    "#Then T statistic\n",
    "#Z be careful\n",
    "#How do we come up with a population mean? Mean of R1 - R2 = 0\n",
    "#Now we can define the standard deviation of this space\n",
    "#Variance is important here\n",
    "#Get your T statistics value and get the probability value which tells you whether it is statistically signifigant - is it less than .025 if so then you reject the null hypothesis \n",
    "#How far am I away from my population mean?"
   ]
  }
 ],
 "metadata": {
  "kernelspec": {
   "display_name": "Python 2",
   "language": "python",
   "name": "python2"
  },
  "language_info": {
   "codemirror_mode": {
    "name": "ipython",
    "version": 2
   },
   "file_extension": ".py",
   "mimetype": "text/x-python",
   "name": "python",
   "nbconvert_exporter": "python",
   "pygments_lexer": "ipython2",
   "version": "2.7.13"
  }
 },
 "nbformat": 4,
 "nbformat_minor": 1
}
